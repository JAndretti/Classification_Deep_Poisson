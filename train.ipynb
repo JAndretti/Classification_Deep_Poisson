{
 "cells": [
  {
   "cell_type": "code",
   "execution_count": 74,
   "metadata": {},
   "outputs": [],
   "source": [
    "import os\n",
    "import cv2 \n",
    "import numpy as np\n"
   ]
  },
  {
   "cell_type": "code",
   "execution_count": 75,
   "metadata": {},
   "outputs": [],
   "source": [
    "def list_images(basePath, validExts=(\".jpg\", \".jpeg\"), contains=None):\n",
    "    \n",
    "    imagePaths = []\n",
    "    \n",
    "    # loop over the directory structure\n",
    "    for (rootDir, dirNames, filenames) in os.walk(basePath):\n",
    "        # loop over the filenames in the current directory\n",
    "        for filename in filenames:\n",
    "            # if the contains string is not none and the filename does not contain\n",
    "            # the supplied string, then ignore the file\n",
    "            if contains is not None and filename.find(contains) == -1:\n",
    "                continue\n",
    "\n",
    "            # determine the file extension of the current file\n",
    "            ext = filename[filename.rfind(\".\"):].lower()\n",
    "\n",
    "            # check to see if the file is an image and should be processed\n",
    "            if ext.endswith(validExts):\n",
    "                # construct the path to the image and yield it\n",
    "                imagePath = os.path.join(rootDir, filename).replace(\" \", \"\\\\ \")\n",
    "                imagePaths.append(imagePath)\n",
    "    \n",
    "    return imagePaths"
   ]
  },
  {
   "cell_type": "code",
   "execution_count": 76,
   "metadata": {},
   "outputs": [],
   "source": [
    "poissons = ['ange', 'clown','goldfish','lion','scalaire']\n",
    "dict = {'ange':0,'clown':1,'goldfish':2,'lion':3,'scalaire':4}\n",
    "db = []\n",
    "label = []"
   ]
  },
  {
   "cell_type": "code",
   "execution_count": 77,
   "metadata": {},
   "outputs": [
    {
     "name": "stdout",
     "output_type": "stream",
     "text": [
      "(7501, 100, 100, 3) (7501,)\n"
     ]
    }
   ],
   "source": [
    "for poisson in poissons:\n",
    "    path = list_images('new_data/'+poisson)\n",
    "    for image in path:\n",
    "        im = cv2.imread(image)\n",
    "        im = np.array(im)\n",
    "        label.append(dict[poisson])\n",
    "        db.append(im)\n",
    "\n",
    "\n",
    "db = np.array(db)\n",
    "label = np.array(label)\n",
    "\n",
    "print(db.shape,label.shape)\n"
   ]
  },
  {
   "cell_type": "code",
   "execution_count": 78,
   "metadata": {},
   "outputs": [
    {
     "name": "stdout",
     "output_type": "stream",
     "text": [
      "(7501, 5)\n"
     ]
    }
   ],
   "source": [
    "#One hot encoding des labels\n",
    "from sklearn.preprocessing import OneHotEncoder\n",
    "onehot_encoder = OneHotEncoder(sparse=False)\n",
    "label = label.reshape(len(label), 1)\n",
    "label = onehot_encoder.fit_transform(label)\n",
    "print(label.shape)"
   ]
  },
  {
   "cell_type": "code",
   "execution_count": 79,
   "metadata": {},
   "outputs": [],
   "source": [
    "#normaliser les données\n",
    "db=db.astype('float32')/255"
   ]
  },
  {
   "cell_type": "code",
   "execution_count": 80,
   "metadata": {},
   "outputs": [],
   "source": [
    "from sklearn.model_selection import train_test_split\n",
    "xtrain, xtest, ytrain, ytest = train_test_split(db, label,test_size=0.3)\n",
    "print(xtrain.shape,ytrain.shape,xtest.shape,ytest.shape)"
   ]
  },
  {
   "cell_type": "code",
   "execution_count": 81,
   "metadata": {},
   "outputs": [
    {
     "name": "stdout",
     "output_type": "stream",
     "text": [
      "Model: \"sequential_2\"\n",
      "_________________________________________________________________\n",
      " Layer (type)                Output Shape              Param #   \n",
      "=================================================================\n",
      " conv2d (Conv2D)             (None, 98, 98, 32)        896       \n",
      "                                                                 \n",
      " max_pooling2d_6 (MaxPooling  (None, 49, 49, 32)       0         \n",
      " 2D)                                                             \n",
      "                                                                 \n",
      " conv2d_1 (Conv2D)           (None, 47, 47, 64)        18496     \n",
      "                                                                 \n",
      " flatten_2 (Flatten)         (None, 141376)            0         \n",
      "                                                                 \n",
      " dense_4 (Dense)             (None, 64)                9048128   \n",
      "                                                                 \n",
      " dense_5 (Dense)             (None, 5)                 325       \n",
      "                                                                 \n",
      "=================================================================\n",
      "Total params: 9,067,845\n",
      "Trainable params: 9,067,845\n",
      "Non-trainable params: 0\n",
      "_________________________________________________________________\n"
     ]
    }
   ],
   "source": [
    "\n",
    "from keras import utils, layers, models, optimizers\n",
    "model = models.Sequential()\n",
    "model.add(layers.Conv2D(32, (3, 3), strides=(1,1),activation='relu', input_shape=(100, 100, 3)))\n",
    "model.add(layers.MaxPooling2D((2, 2)))\n",
    "\n",
    "model.add(layers.Conv2D(64, (3, 3), activation='relu')) \n",
    "model.add(layers.Flatten())\n",
    "\n",
    "model.add(layers.Dense(64, activation='relu'))\n",
    "model.add(layers.Dense(5, activation='softmax')) \n",
    "model.summary()"
   ]
  },
  {
   "cell_type": "code",
   "execution_count": 82,
   "metadata": {},
   "outputs": [
    {
     "name": "stdout",
     "output_type": "stream",
     "text": [
      "Epoch 1/100\n"
     ]
    },
    {
     "name": "stderr",
     "output_type": "stream",
     "text": [
      "2023-01-05 21:39:55.141999: I tensorflow/core/grappler/optimizers/custom_graph_optimizer_registry.cc:114] Plugin optimizer for device_type GPU is enabled.\n"
     ]
    },
    {
     "name": "stdout",
     "output_type": "stream",
     "text": [
      "42/42 [==============================] - ETA: 0s - loss: 1.3989 - acc: 0.4436"
     ]
    },
    {
     "name": "stderr",
     "output_type": "stream",
     "text": [
      "2023-01-05 21:40:05.356594: I tensorflow/core/grappler/optimizers/custom_graph_optimizer_registry.cc:114] Plugin optimizer for device_type GPU is enabled.\n"
     ]
    },
    {
     "name": "stdout",
     "output_type": "stream",
     "text": [
      "42/42 [==============================] - 12s 220ms/step - loss: 1.3989 - acc: 0.4436 - val_loss: 1.1014 - val_acc: 0.5940\n",
      "Epoch 2/100\n",
      "42/42 [==============================] - 8s 180ms/step - loss: 0.7431 - acc: 0.7389 - val_loss: 1.0689 - val_acc: 0.5971\n",
      "Epoch 3/100\n",
      "42/42 [==============================] - 8s 181ms/step - loss: 0.5498 - acc: 0.8053 - val_loss: 0.5917 - val_acc: 0.8059\n",
      "Epoch 4/100\n",
      "42/42 [==============================] - 8s 183ms/step - loss: 0.2982 - acc: 0.9061 - val_loss: 0.5852 - val_acc: 0.8041\n",
      "Epoch 5/100\n",
      "42/42 [==============================] - 8s 186ms/step - loss: 0.1852 - acc: 0.9499 - val_loss: 0.4366 - val_acc: 0.8485\n",
      "Epoch 6/100\n",
      "42/42 [==============================] - 7s 175ms/step - loss: 0.0841 - acc: 0.9815 - val_loss: 0.7809 - val_acc: 0.7810\n",
      "Epoch 7/100\n",
      "42/42 [==============================] - 8s 179ms/step - loss: 0.0648 - acc: 0.9848 - val_loss: 0.5046 - val_acc: 0.8530\n",
      "Epoch 8/100\n",
      "42/42 [==============================] - 7s 175ms/step - loss: 0.0249 - acc: 0.9966 - val_loss: 0.5406 - val_acc: 0.8498\n",
      "Epoch 9/100\n",
      "42/42 [==============================] - 7s 175ms/step - loss: 0.0137 - acc: 0.9981 - val_loss: 0.5558 - val_acc: 0.8494\n",
      "Epoch 10/100\n",
      "42/42 [==============================] - 8s 180ms/step - loss: 0.0086 - acc: 0.9989 - val_loss: 0.6221 - val_acc: 0.8418\n",
      "Epoch 11/100\n",
      "42/42 [==============================] - 7s 174ms/step - loss: 0.0069 - acc: 0.9994 - val_loss: 0.6279 - val_acc: 0.8476\n",
      "Epoch 12/100\n",
      "42/42 [==============================] - 7s 176ms/step - loss: 0.0049 - acc: 0.9996 - val_loss: 0.6062 - val_acc: 0.8525\n",
      "Epoch 13/100\n",
      "42/42 [==============================] - 7s 172ms/step - loss: 0.0212 - acc: 0.9941 - val_loss: 0.6072 - val_acc: 0.8352\n",
      "Epoch 14/100\n",
      "42/42 [==============================] - 8s 180ms/step - loss: 0.0131 - acc: 0.9979 - val_loss: 0.5663 - val_acc: 0.8530\n",
      "Epoch 15/100\n",
      "42/42 [==============================] - 8s 180ms/step - loss: 0.0033 - acc: 0.9998 - val_loss: 0.5990 - val_acc: 0.8543\n",
      "Epoch 16/100\n",
      "42/42 [==============================] - 8s 180ms/step - loss: 0.0016 - acc: 1.0000 - val_loss: 0.6556 - val_acc: 0.8530\n",
      "Epoch 17/100\n",
      "42/42 [==============================] - 8s 201ms/step - loss: 0.0012 - acc: 1.0000 - val_loss: 0.6782 - val_acc: 0.8490\n",
      "Epoch 18/100\n",
      "42/42 [==============================] - 8s 201ms/step - loss: 8.4058e-04 - acc: 1.0000 - val_loss: 0.6962 - val_acc: 0.8494\n",
      "Epoch 19/100\n",
      "42/42 [==============================] - 8s 186ms/step - loss: 7.3224e-04 - acc: 1.0000 - val_loss: 0.7052 - val_acc: 0.8485\n",
      "Epoch 20/100\n",
      "42/42 [==============================] - 8s 194ms/step - loss: 5.6774e-04 - acc: 1.0000 - val_loss: 0.7218 - val_acc: 0.8481\n",
      "Epoch 21/100\n",
      "42/42 [==============================] - 8s 186ms/step - loss: 4.9987e-04 - acc: 1.0000 - val_loss: 0.7321 - val_acc: 0.8463\n",
      "Epoch 22/100\n",
      "42/42 [==============================] - 8s 197ms/step - loss: 4.2100e-04 - acc: 1.0000 - val_loss: 0.7445 - val_acc: 0.8454\n",
      "Epoch 23/100\n",
      "42/42 [==============================] - 7s 177ms/step - loss: 3.6949e-04 - acc: 1.0000 - val_loss: 0.7517 - val_acc: 0.8467\n",
      "Epoch 24/100\n",
      "42/42 [==============================] - 7s 173ms/step - loss: 3.2835e-04 - acc: 1.0000 - val_loss: 0.7618 - val_acc: 0.8458\n",
      "Epoch 25/100\n",
      "42/42 [==============================] - 7s 177ms/step - loss: 2.9586e-04 - acc: 1.0000 - val_loss: 0.7750 - val_acc: 0.8454\n",
      "Epoch 26/100\n",
      "42/42 [==============================] - 7s 178ms/step - loss: 2.6714e-04 - acc: 1.0000 - val_loss: 0.7807 - val_acc: 0.8441\n",
      "Epoch 27/100\n",
      "42/42 [==============================] - 7s 172ms/step - loss: 2.4425e-04 - acc: 1.0000 - val_loss: 0.7874 - val_acc: 0.8441\n",
      "Epoch 28/100\n",
      "42/42 [==============================] - 7s 175ms/step - loss: 2.2365e-04 - acc: 1.0000 - val_loss: 0.7938 - val_acc: 0.8405\n",
      "Epoch 29/100\n",
      "42/42 [==============================] - 7s 171ms/step - loss: 2.0198e-04 - acc: 1.0000 - val_loss: 0.8185 - val_acc: 0.8414\n",
      "Epoch 30/100\n",
      "42/42 [==============================] - 7s 172ms/step - loss: 0.0480 - acc: 0.9855 - val_loss: 1.2005 - val_acc: 0.7219\n",
      "Epoch 31/100\n",
      "42/42 [==============================] - 7s 172ms/step - loss: 0.1637 - acc: 0.9486 - val_loss: 0.9049 - val_acc: 0.7854\n",
      "Epoch 32/100\n",
      "42/42 [==============================] - 7s 172ms/step - loss: 0.0416 - acc: 0.9891 - val_loss: 0.6248 - val_acc: 0.8498\n",
      "Epoch 33/100\n",
      "42/42 [==============================] - 8s 181ms/step - loss: 0.0074 - acc: 0.9985 - val_loss: 0.7915 - val_acc: 0.8339\n",
      "Epoch 34/100\n",
      "42/42 [==============================] - 7s 178ms/step - loss: 0.0043 - acc: 0.9996 - val_loss: 0.7222 - val_acc: 0.8454\n",
      "Epoch 35/100\n",
      "42/42 [==============================] - 7s 177ms/step - loss: 0.0011 - acc: 1.0000 - val_loss: 0.7284 - val_acc: 0.8490\n",
      "Epoch 36/100\n",
      "42/42 [==============================] - 7s 173ms/step - loss: 5.8366e-04 - acc: 1.0000 - val_loss: 0.7514 - val_acc: 0.8481\n",
      "Epoch 37/100\n",
      "42/42 [==============================] - 7s 174ms/step - loss: 4.4019e-04 - acc: 1.0000 - val_loss: 0.7645 - val_acc: 0.8472\n",
      "Epoch 38/100\n",
      "42/42 [==============================] - 8s 199ms/step - loss: 3.6297e-04 - acc: 1.0000 - val_loss: 0.7809 - val_acc: 0.8463\n",
      "Epoch 39/100\n",
      "42/42 [==============================] - 7s 178ms/step - loss: 3.0718e-04 - acc: 1.0000 - val_loss: 0.7982 - val_acc: 0.8463\n",
      "Epoch 40/100\n",
      "42/42 [==============================] - 8s 180ms/step - loss: 2.7070e-04 - acc: 1.0000 - val_loss: 0.7998 - val_acc: 0.8454\n",
      "Epoch 41/100\n",
      "42/42 [==============================] - 7s 173ms/step - loss: 2.3843e-04 - acc: 1.0000 - val_loss: 0.8147 - val_acc: 0.8458\n",
      "Epoch 42/100\n",
      "42/42 [==============================] - 7s 172ms/step - loss: 2.0987e-04 - acc: 1.0000 - val_loss: 0.8236 - val_acc: 0.8445\n",
      "Epoch 43/100\n",
      "42/42 [==============================] - 7s 177ms/step - loss: 1.9163e-04 - acc: 1.0000 - val_loss: 0.8306 - val_acc: 0.8445\n",
      "Epoch 44/100\n",
      "42/42 [==============================] - 8s 182ms/step - loss: 1.7264e-04 - acc: 1.0000 - val_loss: 0.8384 - val_acc: 0.8454\n",
      "Epoch 45/100\n",
      "42/42 [==============================] - 8s 182ms/step - loss: 1.5697e-04 - acc: 1.0000 - val_loss: 0.8480 - val_acc: 0.8450\n",
      "Epoch 46/100\n",
      "42/42 [==============================] - 8s 189ms/step - loss: 1.4591e-04 - acc: 1.0000 - val_loss: 0.8524 - val_acc: 0.8454\n",
      "Epoch 47/100\n",
      "42/42 [==============================] - 8s 189ms/step - loss: 1.3370e-04 - acc: 1.0000 - val_loss: 0.8674 - val_acc: 0.8441\n",
      "Epoch 48/100\n",
      "42/42 [==============================] - 8s 188ms/step - loss: 1.2170e-04 - acc: 1.0000 - val_loss: 0.8697 - val_acc: 0.8445\n",
      "Epoch 49/100\n",
      "42/42 [==============================] - 8s 181ms/step - loss: 1.1411e-04 - acc: 1.0000 - val_loss: 0.8778 - val_acc: 0.8427\n",
      "Epoch 50/100\n",
      "42/42 [==============================] - 7s 178ms/step - loss: 1.0546e-04 - acc: 1.0000 - val_loss: 0.8807 - val_acc: 0.8432\n",
      "Epoch 51/100\n",
      "42/42 [==============================] - 8s 198ms/step - loss: 9.8494e-05 - acc: 1.0000 - val_loss: 0.8862 - val_acc: 0.8423\n",
      "Epoch 52/100\n",
      "42/42 [==============================] - 8s 191ms/step - loss: 9.3325e-05 - acc: 1.0000 - val_loss: 0.8902 - val_acc: 0.8410\n",
      "Epoch 53/100\n",
      "42/42 [==============================] - 8s 200ms/step - loss: 8.7455e-05 - acc: 1.0000 - val_loss: 0.9003 - val_acc: 0.8432\n",
      "Epoch 54/100\n",
      "42/42 [==============================] - 8s 196ms/step - loss: 8.2802e-05 - acc: 1.0000 - val_loss: 0.8994 - val_acc: 0.8414\n",
      "Epoch 55/100\n",
      "42/42 [==============================] - 8s 193ms/step - loss: 8.2524e-05 - acc: 1.0000 - val_loss: 0.9136 - val_acc: 0.8410\n",
      "Epoch 56/100\n",
      "42/42 [==============================] - 8s 183ms/step - loss: 7.4068e-05 - acc: 1.0000 - val_loss: 0.9114 - val_acc: 0.8423\n",
      "Epoch 57/100\n",
      "42/42 [==============================] - 8s 183ms/step - loss: 6.9699e-05 - acc: 1.0000 - val_loss: 0.9139 - val_acc: 0.8414\n",
      "Epoch 58/100\n",
      "42/42 [==============================] - 8s 187ms/step - loss: 6.7710e-05 - acc: 1.0000 - val_loss: 0.9223 - val_acc: 0.8410\n",
      "Epoch 59/100\n",
      "42/42 [==============================] - 8s 196ms/step - loss: 6.2253e-05 - acc: 1.0000 - val_loss: 0.9241 - val_acc: 0.8405\n",
      "Epoch 60/100\n",
      "42/42 [==============================] - 8s 201ms/step - loss: 6.0209e-05 - acc: 1.0000 - val_loss: 0.9266 - val_acc: 0.8410\n",
      "Epoch 61/100\n",
      "42/42 [==============================] - 8s 189ms/step - loss: 5.6472e-05 - acc: 1.0000 - val_loss: 0.9318 - val_acc: 0.8414\n",
      "Epoch 62/100\n",
      "42/42 [==============================] - 8s 190ms/step - loss: 5.3907e-05 - acc: 1.0000 - val_loss: 0.9369 - val_acc: 0.8401\n",
      "Epoch 63/100\n",
      "42/42 [==============================] - 8s 194ms/step - loss: 5.1511e-05 - acc: 1.0000 - val_loss: 0.9402 - val_acc: 0.8410\n",
      "Epoch 64/100\n",
      "42/42 [==============================] - 9s 205ms/step - loss: 4.9636e-05 - acc: 1.0000 - val_loss: 0.9429 - val_acc: 0.8414\n",
      "Epoch 65/100\n",
      "42/42 [==============================] - 9s 205ms/step - loss: 4.7106e-05 - acc: 1.0000 - val_loss: 0.9484 - val_acc: 0.8396\n",
      "Epoch 66/100\n",
      "42/42 [==============================] - 9s 210ms/step - loss: 4.5051e-05 - acc: 1.0000 - val_loss: 0.9495 - val_acc: 0.8410\n",
      "Epoch 67/100\n",
      "42/42 [==============================] - 8s 200ms/step - loss: 4.4155e-05 - acc: 1.0000 - val_loss: 0.9510 - val_acc: 0.8396\n",
      "Epoch 68/100\n",
      "42/42 [==============================] - 8s 183ms/step - loss: 4.1654e-05 - acc: 1.0000 - val_loss: 0.9549 - val_acc: 0.8401\n",
      "Epoch 69/100\n",
      "42/42 [==============================] - 8s 203ms/step - loss: 3.9782e-05 - acc: 1.0000 - val_loss: 0.9617 - val_acc: 0.8401\n",
      "Epoch 70/100\n",
      "42/42 [==============================] - 8s 180ms/step - loss: 3.8099e-05 - acc: 1.0000 - val_loss: 0.9626 - val_acc: 0.8405\n",
      "Epoch 71/100\n",
      "42/42 [==============================] - 8s 188ms/step - loss: 3.6670e-05 - acc: 1.0000 - val_loss: 0.9692 - val_acc: 0.8405\n",
      "Epoch 72/100\n",
      "42/42 [==============================] - 8s 186ms/step - loss: 3.5299e-05 - acc: 1.0000 - val_loss: 0.9698 - val_acc: 0.8410\n",
      "Epoch 73/100\n",
      "42/42 [==============================] - 8s 183ms/step - loss: 3.3906e-05 - acc: 1.0000 - val_loss: 0.9742 - val_acc: 0.8410\n",
      "Epoch 74/100\n",
      "42/42 [==============================] - 8s 189ms/step - loss: 3.2756e-05 - acc: 1.0000 - val_loss: 0.9781 - val_acc: 0.8405\n",
      "Epoch 75/100\n",
      "42/42 [==============================] - 8s 184ms/step - loss: 3.1480e-05 - acc: 1.0000 - val_loss: 0.9812 - val_acc: 0.8410\n",
      "Epoch 76/100\n",
      "42/42 [==============================] - 8s 195ms/step - loss: 3.0395e-05 - acc: 1.0000 - val_loss: 0.9866 - val_acc: 0.8410\n",
      "Epoch 77/100\n",
      "42/42 [==============================] - 8s 182ms/step - loss: 2.9324e-05 - acc: 1.0000 - val_loss: 0.9874 - val_acc: 0.8401\n",
      "Epoch 78/100\n",
      "42/42 [==============================] - 8s 182ms/step - loss: 2.8316e-05 - acc: 1.0000 - val_loss: 0.9913 - val_acc: 0.8410\n",
      "Epoch 79/100\n",
      "42/42 [==============================] - 8s 187ms/step - loss: 2.7348e-05 - acc: 1.0000 - val_loss: 0.9940 - val_acc: 0.8405\n",
      "Epoch 80/100\n",
      "42/42 [==============================] - 9s 207ms/step - loss: 2.6356e-05 - acc: 1.0000 - val_loss: 0.9983 - val_acc: 0.8410\n",
      "Epoch 81/100\n",
      "42/42 [==============================] - 8s 199ms/step - loss: 2.5489e-05 - acc: 1.0000 - val_loss: 0.9988 - val_acc: 0.8414\n",
      "Epoch 82/100\n",
      "42/42 [==============================] - 8s 194ms/step - loss: 2.4613e-05 - acc: 1.0000 - val_loss: 1.0038 - val_acc: 0.8405\n",
      "Epoch 83/100\n",
      "42/42 [==============================] - 8s 194ms/step - loss: 2.3848e-05 - acc: 1.0000 - val_loss: 1.0066 - val_acc: 0.8405\n",
      "Epoch 84/100\n",
      "42/42 [==============================] - 8s 203ms/step - loss: 2.3025e-05 - acc: 1.0000 - val_loss: 1.0096 - val_acc: 0.8405\n",
      "Epoch 85/100\n",
      "42/42 [==============================] - 8s 194ms/step - loss: 2.2291e-05 - acc: 1.0000 - val_loss: 1.0123 - val_acc: 0.8405\n",
      "Epoch 86/100\n",
      "42/42 [==============================] - 8s 181ms/step - loss: 2.1528e-05 - acc: 1.0000 - val_loss: 1.0151 - val_acc: 0.8401\n",
      "Epoch 87/100\n",
      "42/42 [==============================] - 7s 177ms/step - loss: 2.0816e-05 - acc: 1.0000 - val_loss: 1.0185 - val_acc: 0.8405\n",
      "Epoch 88/100\n",
      "42/42 [==============================] - 8s 194ms/step - loss: 2.0189e-05 - acc: 1.0000 - val_loss: 1.0198 - val_acc: 0.8396\n",
      "Epoch 89/100\n",
      "42/42 [==============================] - 8s 184ms/step - loss: 1.9890e-05 - acc: 1.0000 - val_loss: 1.0231 - val_acc: 0.8401\n",
      "Epoch 90/100\n",
      "42/42 [==============================] - 8s 183ms/step - loss: 1.8971e-05 - acc: 1.0000 - val_loss: 1.0264 - val_acc: 0.8405\n",
      "Epoch 91/100\n",
      "42/42 [==============================] - 7s 177ms/step - loss: 1.8359e-05 - acc: 1.0000 - val_loss: 1.0294 - val_acc: 0.8405\n",
      "Epoch 92/100\n",
      "42/42 [==============================] - 7s 178ms/step - loss: 1.7790e-05 - acc: 1.0000 - val_loss: 1.0318 - val_acc: 0.8401\n",
      "Epoch 93/100\n",
      "42/42 [==============================] - 7s 177ms/step - loss: 1.7242e-05 - acc: 1.0000 - val_loss: 1.0346 - val_acc: 0.8396\n",
      "Epoch 94/100\n",
      "42/42 [==============================] - 8s 182ms/step - loss: 1.7650e-05 - acc: 1.0000 - val_loss: 1.0412 - val_acc: 0.8414\n",
      "Epoch 95/100\n",
      "42/42 [==============================] - 8s 180ms/step - loss: 1.6427e-05 - acc: 1.0000 - val_loss: 1.0412 - val_acc: 0.8410\n",
      "Epoch 96/100\n",
      "42/42 [==============================] - 8s 183ms/step - loss: 1.5758e-05 - acc: 1.0000 - val_loss: 1.0434 - val_acc: 0.8401\n",
      "Epoch 97/100\n",
      "42/42 [==============================] - 8s 185ms/step - loss: 1.5258e-05 - acc: 1.0000 - val_loss: 1.0444 - val_acc: 0.8396\n",
      "Epoch 98/100\n",
      "42/42 [==============================] - 7s 179ms/step - loss: 1.4747e-05 - acc: 1.0000 - val_loss: 1.0487 - val_acc: 0.8392\n",
      "Epoch 99/100\n",
      "42/42 [==============================] - 8s 184ms/step - loss: 1.4293e-05 - acc: 1.0000 - val_loss: 1.0511 - val_acc: 0.8396\n",
      "Epoch 100/100\n",
      "42/42 [==============================] - 8s 182ms/step - loss: 1.3835e-05 - acc: 1.0000 - val_loss: 1.0526 - val_acc: 0.8396\n"
     ]
    }
   ],
   "source": [
    "model.compile(loss='categorical_crossentropy', optimizer='adam', metrics=['acc'])\n",
    "history = model.fit(xtrain,ytrain,batch_size=128,epochs=100,validation_data=(xtest,ytest))"
   ]
  },
  {
   "cell_type": "code",
   "execution_count": 83,
   "metadata": {},
   "outputs": [
    {
     "data": {
      "text/plain": [
       "Text(0.5, 0, 'Epochs')"
      ]
     },
     "execution_count": 83,
     "metadata": {},
     "output_type": "execute_result"
    },
    {
     "data": {
      "image/png": "[encoded data removed]",
      "text/plain": [
       "<Figure size 1000x400 with 2 Axes>"
      ]
     },
     "metadata": {},
     "output_type": "display_data"
    }
   ],
   "source": [
    "import matplotlib.pyplot as plt\n",
    "\n",
    "f, (ax1,ax2) = plt.subplots(1,2, figsize=(10,4))\n",
    "\n",
    "ax1.plot(history.history['loss'])\n",
    "ax1.set_title('Training loss')\n",
    "ax1.set_xlabel('Epochs')\n",
    "\n",
    "ax2.plot(history.history['acc'],'r')\n",
    "ax2.set_title('Training accuracy')\n",
    "ax2.set_xlabel('Epochs')"
   ]
  },
  {
   "cell_type": "code",
   "execution_count": 84,
   "metadata": {},
   "outputs": [
    {
     "data": {
      "text/plain": [
       "Text(0.5, 0, 'Epochs')"
      ]
     },
     "execution_count": 84,
     "metadata": {},
     "output_type": "execute_result"
    },
    {
     "data": {
      "image/png": "[encoded data removed]",
      "text/plain": [
       "<Figure size 1000x400 with 2 Axes>"
      ]
     },
     "metadata": {},
     "output_type": "display_data"
    }
   ],
   "source": [
    "f, (ax1,ax2) = plt.subplots(1,2, figsize=(10,4))\n",
    "\n",
    "ax1.plot(history.history['val_loss'])\n",
    "ax1.set_title('test loss')\n",
    "ax1.set_xlabel('Epochs')\n",
    "\n",
    "ax2.plot(history.history['val_acc'],'r')\n",
    "ax2.set_title('test accuracy')\n",
    "ax2.set_xlabel('Epochs')"
   ]
  },
  {
   "cell_type": "code",
   "execution_count": 85,
   "metadata": {},
   "outputs": [
    {
     "name": "stdout",
     "output_type": "stream",
     "text": [
      "71/71 [==============================] - 4s 56ms/step - loss: 1.0526 - acc: 0.8396\n",
      "test_acc: 0.8396268486976624\n"
     ]
    }
   ],
   "source": [
    "test_loss, test_acc = model.evaluate(xtest,ytest)\n",
    "print('test_acc:', test_acc) #"
   ]
  }
 ],
 "metadata": {
  "kernelspec": {
   "display_name": "tf",
   "language": "python",
   "name": "python3"
  },
  "language_info": {
   "codemirror_mode": {
    "name": "ipython",
    "version": 3
   },
   "file_extension": ".py",
   "mimetype": "text/x-python",
   "name": "python",
   "nbconvert_exporter": "python",
   "pygments_lexer": "ipython3",
   "version": "3.8.13 | packaged by conda-forge | (default, Mar 25 2022, 06:05:16) \n[Clang 12.0.1 ]"
  },
  "orig_nbformat": 4,
  "vscode": {
   "interpreter": {
    "hash": "ead2e51d71e97011128490cf9de8c6624c36fa3dfe33c0c42af605215b3407e2"
   }
  }
 },
 "nbformat": 4,
 "nbformat_minor": 2
}
